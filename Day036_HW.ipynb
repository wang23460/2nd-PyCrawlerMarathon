{
 "cells": [
  {
   "cell_type": "markdown",
   "metadata": {},
   "source": [
    "# 加速：非同步爬蟲\n",
    "\n",
    "* 了解非同步爬蟲加速原理與實作"
   ]
  },
  {
   "cell_type": "markdown",
   "metadata": {},
   "source": [
    "## 作業目標\n",
    "\n",
    "#### **比較一下非同步爬蟲跟多線程爬蟲的差異是什麼？**"
   ]
  },
  {
   "cell_type": "markdown",
   "metadata": {},
   "source": [
    "* Mult：可以平行處理多個工作\n",
    "* Async：</br>使用一個單線程直接執行多個工作 , 不用等待前一個工作執行完畢 , 才做下一個\n",
    "在單線程裡使用Async, 下載網頁的時候和處理網頁的時候是不連續的, 可以有效利用了等待下載的這段時間."
   ]
  },
  {
   "cell_type": "markdown",
   "metadata": {},
   "source": [
    "#### **各自的優缺點為何？**"
   ]
  },
  {
   "cell_type": "markdown",
   "metadata": {},
   "source": [
    "* Mult </br>\n",
    "    優：資源分配跟排程不用由程式自己安排 </br>\n",
    "    缺：在存取獨佔資料時 , 容易堵塞\n",
    "\n",
    "* Async </br>\n",
    "優：在存取獨佔資料時 , 比較不容易堵塞 </br>\n",
    "缺：但需要程式本身做資源分配及排程"
   ]
  }
 ],
 "metadata": {
  "colab": {
   "name": "homework.ipynb",
   "provenance": []
  },
  "kernelspec": {
   "display_name": "Python 3",
   "language": "python",
   "name": "python3"
  },
  "language_info": {
   "codemirror_mode": {
    "name": "ipython",
    "version": 3
   },
   "file_extension": ".py",
   "mimetype": "text/x-python",
   "name": "python",
   "nbconvert_exporter": "python",
   "pygments_lexer": "ipython3",
   "version": "3.7.3"
  }
 },
 "nbformat": 4,
 "nbformat_minor": 2
}
