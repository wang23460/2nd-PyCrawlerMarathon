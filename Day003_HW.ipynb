{
 "cells": [
  {
   "cell_type": "markdown",
   "metadata": {},
   "source": [
    "# Python 下載XML檔案與解析\n",
    "\n",
    "\n",
    "* 了解 xml 檔案格式與內容\n",
    "* 能夠利用套件存取 xml 格式的檔案\n"
   ]
  },
  {
   "cell_type": "markdown",
   "metadata": {},
   "source": [
    "## 作業目標\n",
    "\n",
    "* 比較一下範例檔案中的「File I/O」與「xmltodict」讀出來的內容有什麼差異\n",
    "\n",
    "* 根據範例檔案的結果：\n",
    "    1. 請問高雄市有多少地區有溫度資料？\n",
    "    2. 請取出每一個地區所記錄的第一個時間點跟溫度\n",
    "    3. 請取出第一個地區所記錄的每一個時間點跟溫度"
   ]
  },
  {
   "cell_type": "markdown",
   "metadata": {},
   "source": [
    "### 比較一下範例檔案中的「File I/O」與「xmltodict」讀出來的內容有什麼差異\n"
   ]
  },
  {
   "cell_type": "markdown",
   "metadata": {},
   "source": [
    "1. File I/O : 原始XML格式\n",
    "2. xmltodict : dictionary 格式"
   ]
  },
  {
   "cell_type": "markdown",
   "metadata": {},
   "source": [
    "### 根據範例檔案的結果：\n",
    "\n",
    "1. 請問高雄市有多少地區有溫度資料？\n",
    "2. 請取出每一個地區所記錄的第一個時間點跟溫度\n",
    "3. 請取出第一個地區所記錄的每一個時間點跟溫度"
   ]
  },
  {
   "cell_type": "code",
   "execution_count": 1,
   "metadata": {},
   "outputs": [],
   "source": [
    "# 讀檔案\n",
    "fh = open(\"C:/Users/user/Documents/2nd_PyCrawler/homework/Day003/64_72hr_CH.xml\", \"r\", encoding = 'utf-8')\n",
    "xml = fh.read()\n",
    "fh.close()"
   ]
  },
  {
   "cell_type": "markdown",
   "metadata": {},
   "source": [
    "## xmltodict 解析檔案內容\n"
   ]
  },
  {
   "cell_type": "code",
   "execution_count": 2,
   "metadata": {},
   "outputs": [],
   "source": [
    "# 解析檔案內容\n",
    "import xmltodict\n",
    "d = dict(xmltodict.parse(xml))"
   ]
  },
  {
   "cell_type": "code",
   "execution_count": 40,
   "metadata": {},
   "outputs": [
    {
     "name": "stdout",
     "output_type": "stream",
     "text": [
      "臺灣各縣市鄉鎮未來3天(72小時)逐3小時天氣預報\n"
     ]
    }
   ],
   "source": [
    "# 取出 datasetDescription\n",
    "datasetDescription = d['cwbopendata']['dataset']['datasetInfo']['datasetDescription']\n",
    "print(datasetDescription)\n"
   ]
  },
  {
   "cell_type": "code",
   "execution_count": 41,
   "metadata": {},
   "outputs": [],
   "source": [
    "# 1. 請問高雄市有多少地區有溫度資料？\n",
    "datasetDescription = d['cwbopendata']['dataset']['locations']['location']"
   ]
  },
  {
   "cell_type": "code",
   "execution_count": 9,
   "metadata": {},
   "outputs": [
    {
     "name": "stdout",
     "output_type": "stream",
     "text": [
      "38個地區有溫度資料\n"
     ]
    }
   ],
   "source": [
    "print(\"{}個地區有溫度資料\".format(len(datasetDescription)))"
   ]
  },
  {
   "cell_type": "code",
   "execution_count": 27,
   "metadata": {},
   "outputs": [
    {
     "name": "stdout",
     "output_type": "stream",
     "text": [
      "鹽埕區 : 2019-06-28T12:00:00+08:00 33度\n",
      "鼓山區 : 2019-06-28T12:00:00+08:00 33度\n",
      "左營區 : 2019-06-28T12:00:00+08:00 33度\n",
      "楠梓區 : 2019-06-28T12:00:00+08:00 34度\n",
      "三民區 : 2019-06-28T12:00:00+08:00 32度\n",
      "新興區 : 2019-06-28T12:00:00+08:00 33度\n",
      "前金區 : 2019-06-28T12:00:00+08:00 33度\n",
      "苓雅區 : 2019-06-28T12:00:00+08:00 33度\n",
      "前鎮區 : 2019-06-28T12:00:00+08:00 33度\n",
      "旗津區 : 2019-06-28T12:00:00+08:00 32度\n",
      "小港區 : 2019-06-28T12:00:00+08:00 33度\n",
      "鳳山區 : 2019-06-28T12:00:00+08:00 34度\n",
      "林園區 : 2019-06-28T12:00:00+08:00 33度\n",
      "大寮區 : 2019-06-28T12:00:00+08:00 34度\n",
      "大樹區 : 2019-06-28T12:00:00+08:00 34度\n",
      "大社區 : 2019-06-28T12:00:00+08:00 34度\n",
      "仁武區 : 2019-06-28T12:00:00+08:00 33度\n",
      "鳥松區 : 2019-06-28T12:00:00+08:00 34度\n",
      "岡山區 : 2019-06-28T12:00:00+08:00 34度\n",
      "橋頭區 : 2019-06-28T12:00:00+08:00 35度\n",
      "燕巢區 : 2019-06-28T12:00:00+08:00 34度\n",
      "田寮區 : 2019-06-28T12:00:00+08:00 34度\n",
      "阿蓮區 : 2019-06-28T12:00:00+08:00 34度\n",
      "路竹區 : 2019-06-28T12:00:00+08:00 33度\n",
      "湖內區 : 2019-06-28T12:00:00+08:00 33度\n",
      "茄萣區 : 2019-06-28T12:00:00+08:00 33度\n",
      "永安區 : 2019-06-28T12:00:00+08:00 32度\n",
      "彌陀區 : 2019-06-28T12:00:00+08:00 32度\n",
      "梓官區 : 2019-06-28T12:00:00+08:00 32度\n",
      "旗山區 : 2019-06-28T12:00:00+08:00 34度\n",
      "美濃區 : 2019-06-28T12:00:00+08:00 34度\n",
      "六龜區 : 2019-06-28T12:00:00+08:00 34度\n",
      "甲仙區 : 2019-06-28T12:00:00+08:00 33度\n",
      "杉林區 : 2019-06-28T12:00:00+08:00 36度\n",
      "內門區 : 2019-06-28T12:00:00+08:00 34度\n",
      "茂林區 : 2019-06-28T12:00:00+08:00 34度\n",
      "桃源區 : 2019-06-28T12:00:00+08:00 31度\n",
      "那瑪夏區 : 2019-06-28T12:00:00+08:00 29度\n"
     ]
    }
   ],
   "source": [
    "# 2. 請取出每一個地區所記錄的第一個時間點跟溫度\n",
    "list_1 = []\n",
    "for location in datasetDescription:\n",
    "    for weatherElement in location['weatherElement']:\n",
    "        if (weatherElement['description']=='溫度'):\n",
    "            time = weatherElement['time'][0]['dataTime']\n",
    "            \n",
    "            degree = weatherElement['time'][0]['elementValue']['value']\n",
    "#             dic = {location['locationName']:[time,degree]}\n",
    "            print(location['locationName'],':', time, '{}度'.format(degree))\n",
    "#             list_1.append(dic)\n",
    "# print(list_1)"
   ]
  },
  {
   "cell_type": "code",
   "execution_count": 43,
   "metadata": {},
   "outputs": [],
   "source": [
    "# 3. 請取出第一個地區所記錄的每一個時間點跟溫度\n",
    "list_time = []\n",
    "list_degree = []\n",
    "for weatherElement in datasetDescription[0]['weatherElement']:\n",
    "    if (weatherElement['description']=='溫度'):\n",
    "        for time in weatherElement['time']:\n",
    "            list_time.append(time['dataTime'])\n",
    "            list_degree.append(time['elementValue']['value'])\n",
    "dict_ = {'時間':list_time, '溫度':list_degree}"
   ]
  },
  {
   "cell_type": "code",
   "execution_count": 44,
   "metadata": {},
   "outputs": [
    {
     "data": {
      "text/plain": [
       "{'時間': ['2019-06-28T12:00:00+08:00',\n",
       "  '2019-06-28T15:00:00+08:00',\n",
       "  '2019-06-28T18:00:00+08:00',\n",
       "  '2019-06-28T21:00:00+08:00',\n",
       "  '2019-06-29T00:00:00+08:00',\n",
       "  '2019-06-29T03:00:00+08:00',\n",
       "  '2019-06-29T06:00:00+08:00',\n",
       "  '2019-06-29T09:00:00+08:00',\n",
       "  '2019-06-29T12:00:00+08:00',\n",
       "  '2019-06-29T15:00:00+08:00',\n",
       "  '2019-06-29T18:00:00+08:00',\n",
       "  '2019-06-29T21:00:00+08:00',\n",
       "  '2019-06-30T00:00:00+08:00',\n",
       "  '2019-06-30T03:00:00+08:00',\n",
       "  '2019-06-30T06:00:00+08:00',\n",
       "  '2019-06-30T09:00:00+08:00',\n",
       "  '2019-06-30T12:00:00+08:00',\n",
       "  '2019-06-30T15:00:00+08:00',\n",
       "  '2019-06-30T18:00:00+08:00',\n",
       "  '2019-06-30T21:00:00+08:00',\n",
       "  '2019-07-01T00:00:00+08:00',\n",
       "  '2019-07-01T03:00:00+08:00',\n",
       "  '2019-07-01T06:00:00+08:00',\n",
       "  '2019-07-01T09:00:00+08:00'],\n",
       " '溫度': ['33',\n",
       "  '33',\n",
       "  '32',\n",
       "  '30',\n",
       "  '30',\n",
       "  '29',\n",
       "  '28',\n",
       "  '31',\n",
       "  '32',\n",
       "  '32',\n",
       "  '31',\n",
       "  '30',\n",
       "  '29',\n",
       "  '28',\n",
       "  '28',\n",
       "  '31',\n",
       "  '32',\n",
       "  '32',\n",
       "  '31',\n",
       "  '30',\n",
       "  '29',\n",
       "  '29',\n",
       "  '28',\n",
       "  '31']}"
      ]
     },
     "execution_count": 44,
     "metadata": {},
     "output_type": "execute_result"
    }
   ],
   "source": [
    "dict_"
   ]
  }
 ],
 "metadata": {
  "kernelspec": {
   "display_name": "Python 3",
   "language": "python",
   "name": "python3"
  },
  "language_info": {
   "codemirror_mode": {
    "name": "ipython",
    "version": 3
   },
   "file_extension": ".py",
   "mimetype": "text/x-python",
   "name": "python",
   "nbconvert_exporter": "python",
   "pygments_lexer": "ipython3",
   "version": "3.7.3"
  }
 },
 "nbformat": 4,
 "nbformat_minor": 2
}
